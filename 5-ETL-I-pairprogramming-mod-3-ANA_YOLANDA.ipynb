{
 "cells": [
  {
   "cell_type": "code",
   "execution_count": 1,
   "metadata": {},
   "outputs": [],
   "source": [
    "# importamos las librerías que necesitamos\n",
    "\n",
    "# Tratamiento de datos\n",
    "# -----------------------------------------------------------------------\n",
    "import pandas as pd\n",
    "import numpy as np"
   ]
  },
  {
   "cell_type": "code",
   "execution_count": 2,
   "metadata": {},
   "outputs": [],
   "source": [
    "# Configuración\n",
    "# -----------------------------------------------------------------------\n",
    "pd.set_option('display.max_columns', None) # para poder visualizar todas las columnas de los DataFrames\n",
    "\n",
    "# Gestión de los warnings\n",
    "# -----------------------------------------------------------------------\n",
    "import warnings\n",
    "warnings.filterwarnings(\"ignore\")"
   ]
  },
  {
   "cell_type": "markdown",
   "metadata": {},
   "source": [
    "# Ejercicios ETL Parte I\n",
    "  - En este caso trabajas en una empresa de venta al por menor de productos italianos y debes realizar la limpieza, transformación e integración de datos de ventas, productos y clientes para su análisis.\n",
    "  - Los pasos que deberás seguir en este ejercicio son:\n",
    "\n",
    "1. Lectura de la Información:\n",
    "   - Leer los archivos CSV (ventas.csv, productos.csv, clientes.csv).\n",
    "   - Explorar los conjuntos de datos para comprender su estructura, columnas, tipos de datos, etc.\n",
    "\n",
    "2. Transformación de Datos:\n",
    "   - Limpiar los datos: manejar valores nulos, eliminar duplicados si los hay, corregir errores tipográficos, etc.\n",
    "   -Realizar la integración de datos: unir los conjuntos de datos apropiados para obtener una tabla única que contenga información de ventas junto con detalles de productos y clientes.\n",
    "   - Aplicar transformaciones relevantes según sea necesario: por ejemplo, convertir tipos de datos, renombrar columnas, crear nuevas características derivadas, etc.\n",
    "\n",
    "- NOTA Este ejercicio debe realizarse en un archivo .py"
   ]
  },
  {
   "cell_type": "code",
   "execution_count": 3,
   "metadata": {},
   "outputs": [],
   "source": [
    "df_productos = pd.read_csv('5.2-productos.csv', index_col=0, on_bad_lines='skip')"
   ]
  },
  {
   "cell_type": "code",
   "execution_count": 4,
   "metadata": {},
   "outputs": [
    {
     "name": "stdout",
     "output_type": "stream",
     "text": [
      "Línea 1: ID,Nombre_Producto,CategorÃ­a,Precio,Origen,DescripciÃ³n\n",
      "\n",
      "Línea 2: A1,Pizza Margherita,Platos Preparados,8.99,Italia,ClÃ¡sica pizza italiana con tomate, mozzarella fresca y albahaca.\n",
      "\n",
      "Línea 3: B2,Risotto de ChampiÃ±ones,Platos Preparados,6.75,Italia,Risotto cremoso con champiÃ±ones frescos, una delicia italiana para disfrutar en casa.\n",
      "\n",
      "Línea 4: C3,TiramisÃº,Postres,5.49,Italia,Postre clÃ¡sico italiano con capas de bizcocho de cafÃ©, mascarpone y cacao en polvo.\n",
      "\n",
      "Línea 5: D4,Panettone,ReposterÃ­a,10.99,Italia,Pan dulce navideÃ±o italiano con frutas confitadas y pasas, un regalo tradicional en Italia.\n",
      "\n",
      "Línea 6: E5,Orecchiette,Productos Secos,4.29,Italia,PequeÃ±as pastas con forma de orecchiette ideales para salsas de tomate o pesto.\n",
      "\n",
      "Línea 7: F6,Polenta Tradicional,Harinas,3.75,Italia,Harina de maÃ­z italiana para preparar la tradicional polenta, perfecta como acompaÃ±amiento.\n",
      "\n",
      "Línea 8: G7,Mozzarella di Bufala,Productos LÃ¡cteos,9.25,Italia,Mozzarella fresca elaborada con leche de bÃºfala, suave y deliciosamente cremosa.\n",
      "\n",
      "Línea 9: H8,Pesto Genovese,Salsas,5.99,Italia,Una salsa italiana de albahaca, piÃ±ones, queso parmesano y aceite de oliva, perfecta para pastas.\n",
      "\n",
      "Línea 10: I9,Lasagna Bolognesa,Platos Preparados,7.49,Italia,ClÃ¡sica lasaÃ±a con salsa boloÃ±esa, bechamel y queso gratinado, lista para hornear.\n",
      "\n",
      "Línea 11: J10,Arroz Arborio,Productos Secos,4.89,Italia,Arroz de grano corto perfecto para risottos italianos, absorbe los sabores de forma exquisita.\n",
      "\n"
     ]
    }
   ],
   "source": [
    "with open('5.2-productos.csv', 'r') as file:\n",
    "    for i, line in enumerate(file):\n",
    "        print(f\"Línea {i + 1}: {line}\")\n",
    "        if i >= 10:  # Muestra las primeras 10 líneas\n",
    "            break\n"
   ]
  },
  {
   "cell_type": "code",
   "execution_count": 14,
   "metadata": {},
   "outputs": [],
   "source": [
    "df_productos = pd.read_csv('productos.csv', index_col=0, delimiter=';')\n"
   ]
  },
  {
   "cell_type": "code",
   "execution_count": 6,
   "metadata": {},
   "outputs": [],
   "source": [
    "df_ventas = pd.read_csv('5.1-ventas.csv', index_col=0)\n",
    "df_clientes = pd.read_csv('5.3-clientes.csv', index_col=0)"
   ]
  },
  {
   "cell_type": "code",
   "execution_count": 8,
   "metadata": {},
   "outputs": [
    {
     "data": {
      "text/html": [
       "<div>\n",
       "<style scoped>\n",
       "    .dataframe tbody tr th:only-of-type {\n",
       "        vertical-align: middle;\n",
       "    }\n",
       "\n",
       "    .dataframe tbody tr th {\n",
       "        vertical-align: top;\n",
       "    }\n",
       "\n",
       "    .dataframe thead th {\n",
       "        text-align: right;\n",
       "    }\n",
       "</style>\n",
       "<table border=\"1\" class=\"dataframe\">\n",
       "  <thead>\n",
       "    <tr style=\"text-align: right;\">\n",
       "      <th></th>\n",
       "      <th>first_name</th>\n",
       "      <th>last_name</th>\n",
       "      <th>email</th>\n",
       "      <th>gender</th>\n",
       "      <th>City</th>\n",
       "      <th>Country</th>\n",
       "      <th>Address</th>\n",
       "    </tr>\n",
       "    <tr>\n",
       "      <th>id</th>\n",
       "      <th></th>\n",
       "      <th></th>\n",
       "      <th></th>\n",
       "      <th></th>\n",
       "      <th></th>\n",
       "      <th></th>\n",
       "      <th></th>\n",
       "    </tr>\n",
       "  </thead>\n",
       "  <tbody>\n",
       "    <tr>\n",
       "      <th>1</th>\n",
       "      <td>Cheri</td>\n",
       "      <td>Dunsmore</td>\n",
       "      <td>cdunsmore0@instagram.com</td>\n",
       "      <td>Female</td>\n",
       "      <td>Palma De Mallorca</td>\n",
       "      <td>Spain</td>\n",
       "      <td>076 Rockefeller Crossing</td>\n",
       "    </tr>\n",
       "    <tr>\n",
       "      <th>2</th>\n",
       "      <td>Hunt</td>\n",
       "      <td>Bartomeu</td>\n",
       "      <td>hbartomeu1@nsw.gov.au</td>\n",
       "      <td>Male</td>\n",
       "      <td>Lugo</td>\n",
       "      <td>Spain</td>\n",
       "      <td>0046 Utah Junction</td>\n",
       "    </tr>\n",
       "    <tr>\n",
       "      <th>3</th>\n",
       "      <td>Michaeline</td>\n",
       "      <td>Paynton</td>\n",
       "      <td>mpaynton2@narod.ru</td>\n",
       "      <td>Female</td>\n",
       "      <td>NaN</td>\n",
       "      <td>Spain</td>\n",
       "      <td>0 Corry Crossing</td>\n",
       "    </tr>\n",
       "    <tr>\n",
       "      <th>4</th>\n",
       "      <td>Filmer</td>\n",
       "      <td>Eirwin</td>\n",
       "      <td>feirwin3@intel.com</td>\n",
       "      <td>NaN</td>\n",
       "      <td>Leon</td>\n",
       "      <td>Spain</td>\n",
       "      <td>5 American Ash Road</td>\n",
       "    </tr>\n",
       "    <tr>\n",
       "      <th>5</th>\n",
       "      <td>Tanhya</td>\n",
       "      <td>Lubbock</td>\n",
       "      <td>tlubbock4@huffingtonpost.com</td>\n",
       "      <td>Female</td>\n",
       "      <td>Hospitalet De Llobregat, L'</td>\n",
       "      <td>Spain</td>\n",
       "      <td>9289 Merry Circle</td>\n",
       "    </tr>\n",
       "  </tbody>\n",
       "</table>\n",
       "</div>"
      ],
      "text/plain": [
       "    first_name last_name                         email  gender  \\\n",
       "id                                                               \n",
       "1        Cheri  Dunsmore      cdunsmore0@instagram.com  Female   \n",
       "2         Hunt  Bartomeu         hbartomeu1@nsw.gov.au    Male   \n",
       "3   Michaeline   Paynton            mpaynton2@narod.ru  Female   \n",
       "4       Filmer    Eirwin            feirwin3@intel.com     NaN   \n",
       "5       Tanhya   Lubbock  tlubbock4@huffingtonpost.com  Female   \n",
       "\n",
       "                           City Country                   Address  \n",
       "id                                                                 \n",
       "1             Palma De Mallorca   Spain  076 Rockefeller Crossing  \n",
       "2                          Lugo   Spain        0046 Utah Junction  \n",
       "3                           NaN   Spain          0 Corry Crossing  \n",
       "4                          Leon   Spain       5 American Ash Road  \n",
       "5   Hospitalet De Llobregat, L'   Spain         9289 Merry Circle  "
      ]
     },
     "execution_count": 8,
     "metadata": {},
     "output_type": "execute_result"
    }
   ],
   "source": [
    "df_clientes.head()"
   ]
  },
  {
   "cell_type": "code",
   "execution_count": 11,
   "metadata": {},
   "outputs": [
    {
     "name": "stdout",
     "output_type": "stream",
     "text": [
      "<class 'pandas.core.frame.DataFrame'>\n",
      "Index: 1000 entries, 1 to 1000\n",
      "Data columns (total 7 columns):\n",
      " #   Column      Non-Null Count  Dtype \n",
      "---  ------      --------------  ----- \n",
      " 0   first_name  1000 non-null   object\n",
      " 1   last_name   1000 non-null   object\n",
      " 2   email       973 non-null    object\n",
      " 3   gender      923 non-null    object\n",
      " 4   City        876 non-null    object\n",
      " 5   Country     846 non-null    object\n",
      " 6   Address     959 non-null    object\n",
      "dtypes: object(7)\n",
      "memory usage: 62.5+ KB\n"
     ]
    }
   ],
   "source": [
    "df_clientes.info()"
   ]
  },
  {
   "cell_type": "code",
   "execution_count": 9,
   "metadata": {},
   "outputs": [
    {
     "data": {
      "text/html": [
       "<div>\n",
       "<style scoped>\n",
       "    .dataframe tbody tr th:only-of-type {\n",
       "        vertical-align: middle;\n",
       "    }\n",
       "\n",
       "    .dataframe tbody tr th {\n",
       "        vertical-align: top;\n",
       "    }\n",
       "\n",
       "    .dataframe thead th {\n",
       "        text-align: right;\n",
       "    }\n",
       "</style>\n",
       "<table border=\"1\" class=\"dataframe\">\n",
       "  <thead>\n",
       "    <tr style=\"text-align: right;\">\n",
       "      <th></th>\n",
       "      <th>ID_Producto</th>\n",
       "      <th>Fecha_Venta</th>\n",
       "      <th>Cantidad</th>\n",
       "      <th>Total</th>\n",
       "    </tr>\n",
       "    <tr>\n",
       "      <th>ID_Cliente</th>\n",
       "      <th></th>\n",
       "      <th></th>\n",
       "      <th></th>\n",
       "      <th></th>\n",
       "    </tr>\n",
       "  </thead>\n",
       "  <tbody>\n",
       "    <tr>\n",
       "      <th>723</th>\n",
       "      <td>A1</td>\n",
       "      <td>2023-11-22</td>\n",
       "      <td>2</td>\n",
       "      <td>17.98</td>\n",
       "    </tr>\n",
       "    <tr>\n",
       "      <th>498</th>\n",
       "      <td>C3</td>\n",
       "      <td>2023-11-21</td>\n",
       "      <td>1</td>\n",
       "      <td>5.49</td>\n",
       "    </tr>\n",
       "    <tr>\n",
       "      <th>121</th>\n",
       "      <td>D4</td>\n",
       "      <td>2023-11-20</td>\n",
       "      <td>3</td>\n",
       "      <td>32.97</td>\n",
       "    </tr>\n",
       "    <tr>\n",
       "      <th>885</th>\n",
       "      <td>L12</td>\n",
       "      <td>2023-11-19</td>\n",
       "      <td>1</td>\n",
       "      <td>6.49</td>\n",
       "    </tr>\n",
       "    <tr>\n",
       "      <th>347</th>\n",
       "      <td>Q17</td>\n",
       "      <td>2023-11-18</td>\n",
       "      <td>2</td>\n",
       "      <td>7.98</td>\n",
       "    </tr>\n",
       "  </tbody>\n",
       "</table>\n",
       "</div>"
      ],
      "text/plain": [
       "           ID_Producto Fecha_Venta  Cantidad  Total\n",
       "ID_Cliente                                         \n",
       "723                 A1  2023-11-22         2  17.98\n",
       "498                 C3  2023-11-21         1   5.49\n",
       "121                 D4  2023-11-20         3  32.97\n",
       "885                L12  2023-11-19         1   6.49\n",
       "347                Q17  2023-11-18         2   7.98"
      ]
     },
     "execution_count": 9,
     "metadata": {},
     "output_type": "execute_result"
    }
   ],
   "source": [
    "df_ventas.head()"
   ]
  },
  {
   "cell_type": "code",
   "execution_count": 12,
   "metadata": {},
   "outputs": [
    {
     "name": "stdout",
     "output_type": "stream",
     "text": [
      "<class 'pandas.core.frame.DataFrame'>\n",
      "Index: 100 entries, 723 to 987\n",
      "Data columns (total 4 columns):\n",
      " #   Column       Non-Null Count  Dtype  \n",
      "---  ------       --------------  -----  \n",
      " 0   ID_Producto  100 non-null    object \n",
      " 1   Fecha_Venta  100 non-null    object \n",
      " 2   Cantidad     100 non-null    int64  \n",
      " 3   Total        100 non-null    float64\n",
      "dtypes: float64(1), int64(1), object(2)\n",
      "memory usage: 3.9+ KB\n"
     ]
    }
   ],
   "source": [
    "df_ventas.info()"
   ]
  },
  {
   "cell_type": "code",
   "execution_count": 15,
   "metadata": {},
   "outputs": [
    {
     "data": {
      "text/html": [
       "<div>\n",
       "<style scoped>\n",
       "    .dataframe tbody tr th:only-of-type {\n",
       "        vertical-align: middle;\n",
       "    }\n",
       "\n",
       "    .dataframe tbody tr th {\n",
       "        vertical-align: top;\n",
       "    }\n",
       "\n",
       "    .dataframe thead th {\n",
       "        text-align: right;\n",
       "    }\n",
       "</style>\n",
       "<table border=\"1\" class=\"dataframe\">\n",
       "  <thead>\n",
       "    <tr style=\"text-align: right;\">\n",
       "      <th></th>\n",
       "      <th>Nombre_Producto</th>\n",
       "      <th>Categoría</th>\n",
       "      <th>Precio</th>\n",
       "      <th>Origen</th>\n",
       "      <th>Descripción</th>\n",
       "    </tr>\n",
       "    <tr>\n",
       "      <th>ID</th>\n",
       "      <th></th>\n",
       "      <th></th>\n",
       "      <th></th>\n",
       "      <th></th>\n",
       "      <th></th>\n",
       "    </tr>\n",
       "  </thead>\n",
       "  <tbody>\n",
       "    <tr>\n",
       "      <th>A1</th>\n",
       "      <td>Pizza Margherita</td>\n",
       "      <td>Platos Preparados</td>\n",
       "      <td>8.99</td>\n",
       "      <td>Italia</td>\n",
       "      <td>Clásica pizza italiana con tomate,mozzarella f...</td>\n",
       "    </tr>\n",
       "    <tr>\n",
       "      <th>B2</th>\n",
       "      <td>Risotto de Champiñones</td>\n",
       "      <td>Platos Preparados</td>\n",
       "      <td>6.75</td>\n",
       "      <td>Italia</td>\n",
       "      <td>Risotto cremoso con champiñones frescos,una de...</td>\n",
       "    </tr>\n",
       "    <tr>\n",
       "      <th>C3</th>\n",
       "      <td>Tiramisú</td>\n",
       "      <td>Postres</td>\n",
       "      <td>5.49</td>\n",
       "      <td>Italia</td>\n",
       "      <td>Postre clásico italiano con capas de bizcocho ...</td>\n",
       "    </tr>\n",
       "    <tr>\n",
       "      <th>D4</th>\n",
       "      <td>Panettone</td>\n",
       "      <td>Repostería</td>\n",
       "      <td>10.99</td>\n",
       "      <td>Italia</td>\n",
       "      <td>Pan dulce navideño italiano con frutas confita...</td>\n",
       "    </tr>\n",
       "    <tr>\n",
       "      <th>E5</th>\n",
       "      <td>Orecchiette</td>\n",
       "      <td>Productos Secos</td>\n",
       "      <td>4.29</td>\n",
       "      <td>Italia</td>\n",
       "      <td>Pequeñas pastas con forma de orecchiette ideal...</td>\n",
       "    </tr>\n",
       "  </tbody>\n",
       "</table>\n",
       "</div>"
      ],
      "text/plain": [
       "           Nombre_Producto          Categoría  Precio  Origen  \\\n",
       "ID                                                              \n",
       "A1        Pizza Margherita  Platos Preparados    8.99  Italia   \n",
       "B2  Risotto de Champiñones  Platos Preparados    6.75  Italia   \n",
       "C3                Tiramisú            Postres    5.49  Italia   \n",
       "D4               Panettone         Repostería   10.99  Italia   \n",
       "E5             Orecchiette    Productos Secos    4.29  Italia   \n",
       "\n",
       "                                          Descripción  \n",
       "ID                                                     \n",
       "A1  Clásica pizza italiana con tomate,mozzarella f...  \n",
       "B2  Risotto cremoso con champiñones frescos,una de...  \n",
       "C3  Postre clásico italiano con capas de bizcocho ...  \n",
       "D4  Pan dulce navideño italiano con frutas confita...  \n",
       "E5  Pequeñas pastas con forma de orecchiette ideal...  "
      ]
     },
     "execution_count": 15,
     "metadata": {},
     "output_type": "execute_result"
    }
   ],
   "source": [
    "df_productos.head()"
   ]
  },
  {
   "cell_type": "code",
   "execution_count": 16,
   "metadata": {},
   "outputs": [
    {
     "name": "stdout",
     "output_type": "stream",
     "text": [
      "<class 'pandas.core.frame.DataFrame'>\n",
      "Index: 33 entries, A1 to GG33\n",
      "Data columns (total 5 columns):\n",
      " #   Column           Non-Null Count  Dtype  \n",
      "---  ------           --------------  -----  \n",
      " 0   Nombre_Producto  33 non-null     object \n",
      " 1   Categoría        33 non-null     object \n",
      " 2   Precio           33 non-null     float64\n",
      " 3   Origen           33 non-null     object \n",
      " 4   Descripción      33 non-null     object \n",
      "dtypes: float64(1), object(4)\n",
      "memory usage: 1.5+ KB\n"
     ]
    }
   ],
   "source": [
    "df_productos.info()"
   ]
  },
  {
   "cell_type": "code",
   "execution_count": null,
   "metadata": {},
   "outputs": [],
   "source": []
  },
  {
   "cell_type": "code",
   "execution_count": null,
   "metadata": {},
   "outputs": [],
   "source": []
  },
  {
   "cell_type": "code",
   "execution_count": null,
   "metadata": {},
   "outputs": [],
   "source": []
  }
 ],
 "metadata": {
  "kernelspec": {
   "display_name": "Python 3",
   "language": "python",
   "name": "python3"
  },
  "language_info": {
   "codemirror_mode": {
    "name": "ipython",
    "version": 3
   },
   "file_extension": ".py",
   "mimetype": "text/x-python",
   "name": "python",
   "nbconvert_exporter": "python",
   "pygments_lexer": "ipython3",
   "version": "3.11.9"
  }
 },
 "nbformat": 4,
 "nbformat_minor": 2
}
