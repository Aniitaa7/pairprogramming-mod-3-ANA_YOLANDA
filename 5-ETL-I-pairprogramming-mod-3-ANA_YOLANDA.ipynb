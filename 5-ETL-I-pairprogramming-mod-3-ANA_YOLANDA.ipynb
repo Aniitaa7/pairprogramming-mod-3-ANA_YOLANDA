{
 "cells": [
  {
   "cell_type": "code",
   "execution_count": 4,
   "metadata": {},
   "outputs": [],
   "source": [
    "# importamos las librerías que necesitamos\n",
    "\n",
    "# Tratamiento de datos\n",
    "# -----------------------------------------------------------------------\n",
    "import pandas as pd\n",
    "import numpy as np"
   ]
  },
  {
   "cell_type": "code",
   "execution_count": 5,
   "metadata": {},
   "outputs": [],
   "source": [
    "# Configuración\n",
    "# -----------------------------------------------------------------------\n",
    "pd.set_option('display.max_columns', None) # para poder visualizar todas las columnas de los DataFrames\n",
    "\n",
    "# Gestión de los warnings\n",
    "# -----------------------------------------------------------------------\n",
    "import warnings\n",
    "warnings.filterwarnings(\"ignore\")"
   ]
  },
  {
   "cell_type": "markdown",
   "metadata": {},
   "source": [
    "# Ejercicios ETL Parte I\n",
    "  - En este caso trabajas en una empresa de venta al por menor de productos italianos y debes realizar la limpieza, transformación e integración de datos de ventas, productos y clientes para su análisis.\n",
    "  - Los pasos que deberás seguir en este ejercicio son:\n",
    "\n",
    "1. Lectura de la Información:\n",
    "   - Leer los archivos CSV (ventas.csv, productos.csv, clientes.csv).\n",
    "   - Explorar los conjuntos de datos para comprender su estructura, columnas, tipos de datos, etc.\n",
    "\n",
    "2. Transformación de Datos:\n",
    "   - Limpiar los datos: manejar valores nulos, eliminar duplicados si los hay, corregir errores tipográficos, etc.\n",
    "   -Realizar la integración de datos: unir los conjuntos de datos apropiados para obtener una tabla única que contenga información de ventas junto con detalles de productos y clientes.\n",
    "   - Aplicar transformaciones relevantes según sea necesario: por ejemplo, convertir tipos de datos, renombrar columnas, crear nuevas características derivadas, etc.\n",
    "\n",
    "- NOTA Este ejercicio debe realizarse en un archivo .py"
   ]
  },
  {
   "cell_type": "code",
   "execution_count": 7,
   "metadata": {},
   "outputs": [],
   "source": [
    "df_productos = pd.read_csv('5.2-productos.csv', index_col=0, on_bad_lines='skip')"
   ]
  },
  {
   "cell_type": "code",
   "execution_count": 10,
   "metadata": {},
   "outputs": [
    {
     "name": "stdout",
     "output_type": "stream",
     "text": [
      "Línea 1: ID,Nombre_Producto,CategorÃ­a,Precio,Origen,DescripciÃ³n\n",
      "\n",
      "Línea 2: A1,Pizza Margherita,Platos Preparados,8.99,Italia,ClÃ¡sica pizza italiana con tomate, mozzarella fresca y albahaca.\n",
      "\n",
      "Línea 3: B2,Risotto de ChampiÃ±ones,Platos Preparados,6.75,Italia,Risotto cremoso con champiÃ±ones frescos, una delicia italiana para disfrutar en casa.\n",
      "\n",
      "Línea 4: C3,TiramisÃº,Postres,5.49,Italia,Postre clÃ¡sico italiano con capas de bizcocho de cafÃ©, mascarpone y cacao en polvo.\n",
      "\n",
      "Línea 5: D4,Panettone,ReposterÃ­a,10.99,Italia,Pan dulce navideÃ±o italiano con frutas confitadas y pasas, un regalo tradicional en Italia.\n",
      "\n",
      "Línea 6: E5,Orecchiette,Productos Secos,4.29,Italia,PequeÃ±as pastas con forma de orecchiette ideales para salsas de tomate o pesto.\n",
      "\n",
      "Línea 7: F6,Polenta Tradicional,Harinas,3.75,Italia,Harina de maÃ­z italiana para preparar la tradicional polenta, perfecta como acompaÃ±amiento.\n",
      "\n",
      "Línea 8: G7,Mozzarella di Bufala,Productos LÃ¡cteos,9.25,Italia,Mozzarella fresca elaborada con leche de bÃºfala, suave y deliciosamente cremosa.\n",
      "\n",
      "Línea 9: H8,Pesto Genovese,Salsas,5.99,Italia,Una salsa italiana de albahaca, piÃ±ones, queso parmesano y aceite de oliva, perfecta para pastas.\n",
      "\n",
      "Línea 10: I9,Lasagna Bolognesa,Platos Preparados,7.49,Italia,ClÃ¡sica lasaÃ±a con salsa boloÃ±esa, bechamel y queso gratinado, lista para hornear.\n",
      "\n",
      "Línea 11: J10,Arroz Arborio,Productos Secos,4.89,Italia,Arroz de grano corto perfecto para risottos italianos, absorbe los sabores de forma exquisita.\n",
      "\n"
     ]
    }
   ],
   "source": [
    "with open('5.2-productos.csv', 'r') as file:\n",
    "    for i, line in enumerate(file):\n",
    "        print(f\"Línea {i + 1}: {line}\")\n",
    "        if i >= 10:  # Muestra las primeras 10 líneas\n",
    "            break\n"
   ]
  },
  {
   "cell_type": "code",
   "execution_count": 11,
   "metadata": {},
   "outputs": [],
   "source": [
    "df_productos = pd.read_csv('5.2-productos.csv', index_col=0, delimiter=';')\n"
   ]
  },
  {
   "cell_type": "code",
   "execution_count": null,
   "metadata": {},
   "outputs": [],
   "source": [
    "df_ventas = pd.read_csv('5.1-ventas.csv', index_col=0)\n",
    "df_clientes = pd.read_csv('5.3-clientes.csv', index_col=0)"
   ]
  }
 ],
 "metadata": {
  "kernelspec": {
   "display_name": "Python 3",
   "language": "python",
   "name": "python3"
  },
  "language_info": {
   "codemirror_mode": {
    "name": "ipython",
    "version": 3
   },
   "file_extension": ".py",
   "mimetype": "text/x-python",
   "name": "python",
   "nbconvert_exporter": "python",
   "pygments_lexer": "ipython3",
   "version": "3.12.5"
  }
 },
 "nbformat": 4,
 "nbformat_minor": 2
}
